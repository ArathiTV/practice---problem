{
 "cells": [
  {
   "cell_type": "code",
   "execution_count": null,
   "id": "3022e133",
   "metadata": {},
   "outputs": [],
   "source": [
    " # importing libraries\n",
    "import pandas as pd\n",
    "import numpy as np\n",
    "import seaborn as sns\n",
    "import matplotlib.pyplot as plt"
   ]
  },
  {
   "cell_type": "code",
   "execution_count": null,
   "id": "e6ff6c0d",
   "metadata": {},
   "outputs": [],
   "source": [
    "# Read the csv files into dataframe.\n",
    "train_df = pd.read_csv(r'C:\\Users\\Arathi\\Downloads\\train_v9rqX0R.csv')\n",
    "\n",
    "test_df = pd.read_csv(r'C:\\Users\\Arathi\\Downloads\\test_AbJTz2l.csv')\n"
   ]
  },
  {
   "cell_type": "code",
   "execution_count": null,
   "id": "ca11a12f",
   "metadata": {},
   "outputs": [],
   "source": [
    "# descriptive data analysis of train data\n",
    "train_df.head()"
   ]
  },
  {
   "cell_type": "code",
   "execution_count": null,
   "id": "93bdd45d",
   "metadata": {},
   "outputs": [],
   "source": []
  },
  {
   "cell_type": "code",
   "execution_count": null,
   "id": "f0b98546",
   "metadata": {},
   "outputs": [],
   "source": [
    "train_df.shape"
   ]
  },
  {
   "cell_type": "code",
   "execution_count": null,
   "id": "a267cf4b",
   "metadata": {},
   "outputs": [],
   "source": [
    "train_df.index"
   ]
  },
  {
   "cell_type": "code",
   "execution_count": null,
   "id": "5f123c80",
   "metadata": {},
   "outputs": [],
   "source": [
    "train_df.columns"
   ]
  },
  {
   "cell_type": "code",
   "execution_count": null,
   "id": "51c9cbcf",
   "metadata": {
    "scrolled": true
   },
   "outputs": [],
   "source": [
    "train_df.info()\n"
   ]
  },
  {
   "cell_type": "code",
   "execution_count": null,
   "id": "1e76d805",
   "metadata": {},
   "outputs": [],
   "source": [
    "train_df.describe()"
   ]
  },
  {
   "cell_type": "markdown",
   "id": "982a1be1",
   "metadata": {},
   "source": [
    "#### preprocessing the train dataset"
   ]
  },
  {
   "cell_type": "code",
   "execution_count": null,
   "id": "4bd17f89",
   "metadata": {},
   "outputs": [],
   "source": [
    "# check for null values\n",
    "train_df.isna().sum()"
   ]
  },
  {
   "cell_type": "code",
   "execution_count": null,
   "id": "8bb20e3b",
   "metadata": {},
   "outputs": [],
   "source": [
    "train_df.isna().sum() / train_df.shape[0] * 100"
   ]
  },
  {
   "cell_type": "code",
   "execution_count": null,
   "id": "da05a796",
   "metadata": {},
   "outputs": [],
   "source": [
    "# here more than 10% missing values present.so drop that 2 columns and  that 2 id columns also droped.\n",
    "train_df= train_df.drop(['Item_Weight','Outlet_Size','Item_Identifier','Outlet_Identifier'],axis=1)\n"
   ]
  },
  {
   "cell_type": "code",
   "execution_count": null,
   "id": "e9e0dad3",
   "metadata": {},
   "outputs": [],
   "source": [
    "train_df.head()"
   ]
  },
  {
   "cell_type": "code",
   "execution_count": null,
   "id": "0b0834e5",
   "metadata": {},
   "outputs": [],
   "source": []
  },
  {
   "cell_type": "markdown",
   "id": "c153d34c",
   "metadata": {},
   "source": [
    "#### Encoding"
   ]
  },
  {
   "cell_type": "code",
   "execution_count": null,
   "id": "d364932e",
   "metadata": {},
   "outputs": [],
   "source": [
    "train_df.dtypes"
   ]
  },
  {
   "cell_type": "code",
   "execution_count": null,
   "id": "5c818108",
   "metadata": {},
   "outputs": [],
   "source": [
    "# label encoding\n",
    "from sklearn.preprocessing import LabelEncoder\n",
    "Label_encoder = LabelEncoder()\n",
    "train_df['Item_Fat_Content'] = Label_encoder.fit_transform(train_df['Item_Fat_Content'])\n",
    "train_df['Item_Type'] = Label_encoder.fit_transform(train_df['Item_Type'])\n",
    "train_df['Outlet_Location_Type'] = Label_encoder.fit_transform(train_df['Outlet_Location_Type'])\n",
    "\n",
    "train_df['Outlet_Type'] = Label_encoder.fit_transform(train_df['Outlet_Type'])\n",
    "\n"
   ]
  },
  {
   "cell_type": "code",
   "execution_count": null,
   "id": "2f05da7a",
   "metadata": {},
   "outputs": [],
   "source": [
    "train_df.head()"
   ]
  },
  {
   "cell_type": "code",
   "execution_count": null,
   "id": "2f852aab",
   "metadata": {},
   "outputs": [],
   "source": [
    "# correlation matrix   , heatmap\n",
    "corrmatrix =train_df.corr()\n",
    "plt.subplots(figsize=(10,8))\n",
    "sns.heatmap(corrmatrix, annot=True)"
   ]
  },
  {
   "cell_type": "code",
   "execution_count": null,
   "id": "c696ae13",
   "metadata": {},
   "outputs": [],
   "source": [
    "train_df['Item_Outlet_Sales']=np.log(1+train_df['Item_Outlet_Sales'])"
   ]
  },
  {
   "cell_type": "code",
   "execution_count": null,
   "id": "f73f3114",
   "metadata": {},
   "outputs": [],
   "source": [
    "# descriptive data analysis of test data\n",
    "test_df.head()"
   ]
  },
  {
   "cell_type": "code",
   "execution_count": null,
   "id": "07bad712",
   "metadata": {},
   "outputs": [],
   "source": [
    "test_df.shape"
   ]
  },
  {
   "cell_type": "code",
   "execution_count": null,
   "id": "43c5dd90",
   "metadata": {},
   "outputs": [],
   "source": [
    "train_df.index"
   ]
  },
  {
   "cell_type": "code",
   "execution_count": null,
   "id": "5ea36df0",
   "metadata": {},
   "outputs": [],
   "source": [
    "test_df.columns"
   ]
  },
  {
   "cell_type": "code",
   "execution_count": null,
   "id": "bd3931a3",
   "metadata": {},
   "outputs": [],
   "source": [
    "test_df.describe()"
   ]
  },
  {
   "cell_type": "code",
   "execution_count": null,
   "id": "7bb1947b",
   "metadata": {},
   "outputs": [],
   "source": [
    "test_df.info()"
   ]
  },
  {
   "cell_type": "markdown",
   "id": "1183870b",
   "metadata": {},
   "source": [
    "#### preprocessing the test dataset"
   ]
  },
  {
   "cell_type": "code",
   "execution_count": null,
   "id": "6b74e4a5",
   "metadata": {},
   "outputs": [],
   "source": [
    "# check for null values\n",
    "test_df.isna().sum()"
   ]
  },
  {
   "cell_type": "code",
   "execution_count": null,
   "id": "eb0efc94",
   "metadata": {},
   "outputs": [],
   "source": [
    "test_df.isna().sum() / test_df.shape[0] * 100"
   ]
  },
  {
   "cell_type": "code",
   "execution_count": null,
   "id": "56480e12",
   "metadata": {},
   "outputs": [],
   "source": [
    "# here more than 10% missing values present.so drop that 2 columns and  that 2 id columns also droped.\n",
    "test_df= test_df.drop(['Item_Weight','Outlet_Size','Item_Identifier','Outlet_Identifier'],axis=1)\n"
   ]
  },
  {
   "cell_type": "code",
   "execution_count": null,
   "id": "e08ac904",
   "metadata": {},
   "outputs": [],
   "source": [
    "test_df.head()"
   ]
  },
  {
   "cell_type": "markdown",
   "id": "04ab6ff5",
   "metadata": {},
   "source": [
    "#### Encoding"
   ]
  },
  {
   "cell_type": "code",
   "execution_count": null,
   "id": "dbaa61ff",
   "metadata": {},
   "outputs": [],
   "source": [
    "test_df.dtypes"
   ]
  },
  {
   "cell_type": "code",
   "execution_count": null,
   "id": "7e46892c",
   "metadata": {},
   "outputs": [],
   "source": [
    "# label encoding\n",
    "from sklearn.preprocessing import LabelEncoder\n",
    "Label_encoder = LabelEncoder()\n",
    "test_df['Item_Fat_Content'] = Label_encoder.fit_transform(test_df['Item_Fat_Content'])\n",
    "test_df['Item_Type'] = Label_encoder.fit_transform(test_df['Item_Type'])\n",
    "test_df['Outlet_Type'] = Label_encoder.fit_transform(test_df['Outlet_Type'])\n",
    "test_df['Outlet_Location_Type'] = Label_encoder.fit_transform(test_df['Outlet_Location_Type'])\n"
   ]
  },
  {
   "cell_type": "code",
   "execution_count": null,
   "id": "2a2c2280",
   "metadata": {},
   "outputs": [],
   "source": [
    "test_df.head()"
   ]
  },
  {
   "cell_type": "code",
   "execution_count": null,
   "id": "2a01afc1",
   "metadata": {},
   "outputs": [],
   "source": [
    "test_df1 = test_df.drop(['Item_Fat_Content','Item_Type','Outlet_Location_Type','Outlet_Type'],axis=1)"
   ]
  },
  {
   "cell_type": "code",
   "execution_count": null,
   "id": "94ff1e52",
   "metadata": {},
   "outputs": [],
   "source": [
    "test_df1.head()"
   ]
  },
  {
   "cell_type": "code",
   "execution_count": null,
   "id": "77ce0f6b",
   "metadata": {},
   "outputs": [],
   "source": [
    "# import minmax scalar\n",
    "from sklearn.preprocessing import MinMaxScaler\n",
    "min_max_scaler = MinMaxScaler(feature_range=(0,1))# range \n"
   ]
  },
  {
   "cell_type": "code",
   "execution_count": null,
   "id": "26a59ed1",
   "metadata": {},
   "outputs": [],
   "source": [
    "test_df1 = min_max_scaler.fit_transform(test_df1)\n"
   ]
  },
  {
   "cell_type": "code",
   "execution_count": null,
   "id": "8f824442",
   "metadata": {},
   "outputs": [],
   "source": [
    "type(test_df1)"
   ]
  },
  {
   "cell_type": "code",
   "execution_count": null,
   "id": "fcf2d7e5",
   "metadata": {},
   "outputs": [],
   "source": [
    "test_df.columns"
   ]
  },
  {
   "cell_type": "code",
   "execution_count": null,
   "id": "99b80ec7",
   "metadata": {},
   "outputs": [],
   "source": [
    "test_df1= pd.DataFrame(test_df1,columns=['Item_Visibility','Item_MRP','Outlet_Establishment_Year'])\n",
    "test_df1.head()"
   ]
  },
  {
   "cell_type": "code",
   "execution_count": null,
   "id": "7fee53e2",
   "metadata": {},
   "outputs": [],
   "source": [
    "test_df1.describe()"
   ]
  },
  {
   "cell_type": "code",
   "execution_count": null,
   "id": "e5d46f81",
   "metadata": {},
   "outputs": [],
   "source": [
    "test_df.drop(['Item_Visibility','Item_MRP','Outlet_Establishment_Year'],axis=1, inplace=True)\n"
   ]
  },
  {
   "cell_type": "code",
   "execution_count": null,
   "id": "693b3fc3",
   "metadata": {},
   "outputs": [],
   "source": [
    "test_df = pd.concat([test_df,test_df1],axis=1)"
   ]
  },
  {
   "cell_type": "code",
   "execution_count": null,
   "id": "ebb3c856",
   "metadata": {},
   "outputs": [],
   "source": [
    "test_df.head()"
   ]
  },
  {
   "cell_type": "code",
   "execution_count": null,
   "id": "3888808d",
   "metadata": {},
   "outputs": [],
   "source": [
    "# splitting  our  train data into train and test"
   ]
  },
  {
   "cell_type": "code",
   "execution_count": null,
   "id": "c06c590a",
   "metadata": {},
   "outputs": [],
   "source": [
    "x = train_df.drop('Item_Outlet_Sales', axis=1)\n",
    "y = train_df['Item_Outlet_Sales']"
   ]
  },
  {
   "cell_type": "code",
   "execution_count": null,
   "id": "47117f54",
   "metadata": {},
   "outputs": [],
   "source": [
    "# importing library\n",
    "\n",
    "from sklearn.model_selection import train_test_split\n",
    "# train-70\n",
    "# test-30"
   ]
  },
  {
   "cell_type": "code",
   "execution_count": null,
   "id": "29615fd7",
   "metadata": {},
   "outputs": [],
   "source": [
    " # splitting the data into training and testing set\n",
    "\n",
    "x_train, x_test, y_train , y_test = train_test_split(x,y,\n",
    "                                                     test_size=0.30,\n",
    "                                                     random_state=42)"
   ]
  },
  {
   "cell_type": "code",
   "execution_count": null,
   "id": "50a77abb",
   "metadata": {},
   "outputs": [],
   "source": [
    "x_train.head()"
   ]
  },
  {
   "cell_type": "code",
   "execution_count": null,
   "id": "2ede6e6d",
   "metadata": {},
   "outputs": [],
   "source": [
    "x_test.head()"
   ]
  },
  {
   "cell_type": "code",
   "execution_count": null,
   "id": "462999dc",
   "metadata": {},
   "outputs": [],
   "source": [
    "y_train.head()"
   ]
  },
  {
   "cell_type": "code",
   "execution_count": null,
   "id": "f437c2ca",
   "metadata": {},
   "outputs": [],
   "source": [
    "y_test.head()"
   ]
  },
  {
   "cell_type": "code",
   "execution_count": null,
   "id": "92eb4781",
   "metadata": {},
   "outputs": [],
   "source": [
    "x.describe()"
   ]
  },
  {
   "cell_type": "code",
   "execution_count": null,
   "id": "4f07ed92",
   "metadata": {},
   "outputs": [],
   "source": [
    "x.head()"
   ]
  },
  {
   "cell_type": "code",
   "execution_count": null,
   "id": "4b76c562",
   "metadata": {},
   "outputs": [],
   "source": [
    "x1 = x.drop(['Item_Fat_Content','Item_Type','Outlet_Location_Type','Outlet_Type'],axis=1)"
   ]
  },
  {
   "cell_type": "code",
   "execution_count": null,
   "id": "ce76aa8e",
   "metadata": {},
   "outputs": [],
   "source": [
    "x1"
   ]
  },
  {
   "cell_type": "code",
   "execution_count": null,
   "id": "b3a81707",
   "metadata": {},
   "outputs": [],
   "source": [
    "# import minmax scalling\n",
    "from sklearn.preprocessing import MinMaxScaler"
   ]
  },
  {
   "cell_type": "code",
   "execution_count": null,
   "id": "765fcfc0",
   "metadata": {},
   "outputs": [],
   "source": [
    "min_max_scaler = MinMaxScaler(feature_range=(0,1))# range \n",
    "x1 = min_max_scaler.fit_transform(x1)"
   ]
  },
  {
   "cell_type": "code",
   "execution_count": null,
   "id": "a7212584",
   "metadata": {},
   "outputs": [],
   "source": [
    "type(x1)"
   ]
  },
  {
   "cell_type": "code",
   "execution_count": null,
   "id": "dec6bb99",
   "metadata": {},
   "outputs": [],
   "source": [
    "train_df.columns"
   ]
  },
  {
   "cell_type": "code",
   "execution_count": null,
   "id": "83a01f0e",
   "metadata": {},
   "outputs": [],
   "source": [
    "x1= pd.DataFrame(x1,columns=['Item_Visibility','Item_MRP','Outlet_Establishment_Year'])"
   ]
  },
  {
   "cell_type": "code",
   "execution_count": null,
   "id": "bc029329",
   "metadata": {},
   "outputs": [],
   "source": [
    "x1.head()"
   ]
  },
  {
   "cell_type": "code",
   "execution_count": null,
   "id": "907dc566",
   "metadata": {},
   "outputs": [],
   "source": [
    "x1.describe()"
   ]
  },
  {
   "cell_type": "code",
   "execution_count": null,
   "id": "8a7f1865",
   "metadata": {},
   "outputs": [],
   "source": [
    "x.drop(['Item_Visibility','Item_MRP','Outlet_Establishment_Year'],axis=1, inplace=True)"
   ]
  },
  {
   "cell_type": "code",
   "execution_count": null,
   "id": "b518c712",
   "metadata": {},
   "outputs": [],
   "source": [
    "x = pd.concat([x,x1],axis=1)"
   ]
  },
  {
   "cell_type": "code",
   "execution_count": null,
   "id": "46cb61f8",
   "metadata": {},
   "outputs": [],
   "source": [
    "x.head()"
   ]
  },
  {
   "cell_type": "markdown",
   "id": "287be95d",
   "metadata": {},
   "source": [
    "\n",
    "#### Applying linear regression on the train data"
   ]
  },
  {
   "cell_type": "code",
   "execution_count": null,
   "id": "502f033d",
   "metadata": {},
   "outputs": [],
   "source": [
    "from sklearn.linear_model import LinearRegression "
   ]
  },
  {
   "cell_type": "code",
   "execution_count": null,
   "id": "279d3c86",
   "metadata": {},
   "outputs": [],
   "source": [
    "Ir = LinearRegression()  # create instance\n",
    "\n",
    "model = Ir.fit(x_train,y_train)\n",
    "   "
   ]
  },
  {
   "cell_type": "code",
   "execution_count": null,
   "id": "87387cb4",
   "metadata": {},
   "outputs": [],
   "source": [
    "y_pred =Ir.predict(x_test)"
   ]
  },
  {
   "cell_type": "code",
   "execution_count": null,
   "id": "87c87d66",
   "metadata": {},
   "outputs": [],
   "source": [
    "# prediction on test data"
   ]
  },
  {
   "cell_type": "code",
   "execution_count": null,
   "id": "c346d4b7",
   "metadata": {},
   "outputs": [],
   "source": [
    "test_df.head()"
   ]
  },
  {
   "cell_type": "code",
   "execution_count": null,
   "id": "d7ec432c",
   "metadata": {},
   "outputs": [],
   "source": [
    "model = LinearRegression()"
   ]
  },
  {
   "cell_type": "code",
   "execution_count": null,
   "id": "757b3e40",
   "metadata": {},
   "outputs": [],
   "source": [
    "model.fit(x,y)"
   ]
  },
  {
   "cell_type": "code",
   "execution_count": null,
   "id": "8e0e26d6",
   "metadata": {},
   "outputs": [],
   "source": [
    "pred=model.predict(test_df)"
   ]
  },
  {
   "cell_type": "code",
   "execution_count": null,
   "id": "4ba4d950",
   "metadata": {},
   "outputs": [],
   "source": [
    "Item_Outlet_Sales=pred"
   ]
  },
  {
   "cell_type": "code",
   "execution_count": null,
   "id": "fa43f083",
   "metadata": {},
   "outputs": [],
   "source": [
    "from sklearn.metrics import mean_squared_error, r2_score\n"
   ]
  },
  {
   "cell_type": "code",
   "execution_count": null,
   "id": "1c28db3e",
   "metadata": {},
   "outputs": [],
   "source": [
    "print('Mean squared Error is:',mean_squared_error(y_test,y_pred))\n",
    "print('R squared value is:',r2_score(y_test,y_pred))"
   ]
  },
  {
   "cell_type": "code",
   "execution_count": null,
   "id": "127b0035",
   "metadata": {},
   "outputs": [],
   "source": [
    "# load sample submission dataset\n",
    "sample_submission = pd.read_csv(r'C:\\Users\\Arathi\\Downloads\\sample_submission_8RXa3c6.csv')"
   ]
  },
  {
   "cell_type": "code",
   "execution_count": null,
   "id": "81eb2cae",
   "metadata": {},
   "outputs": [],
   "source": [
    "sample_submission"
   ]
  },
  {
   "cell_type": "code",
   "execution_count": null,
   "id": "4ff025b6",
   "metadata": {},
   "outputs": [],
   "source": [
    "sample_submission = sample_submission.drop('Item_Outlet_Sales', axis=1)"
   ]
  },
  {
   "cell_type": "code",
   "execution_count": null,
   "id": "dbb03a68",
   "metadata": {},
   "outputs": [],
   "source": [
    "Item_Outlet_Sales"
   ]
  },
  {
   "cell_type": "code",
   "execution_count": null,
   "id": "870e4eaa",
   "metadata": {},
   "outputs": [],
   "source": [
    "Item_Outlet_Sales = pd.DataFrame(Item_Outlet_Sales,columns=['Item_Outlet_Sales'])"
   ]
  },
  {
   "cell_type": "code",
   "execution_count": null,
   "id": "66a7cc92",
   "metadata": {},
   "outputs": [],
   "source": [
    "Item_Outlet_Sales"
   ]
  },
  {
   "cell_type": "code",
   "execution_count": null,
   "id": "f1f0337d",
   "metadata": {},
   "outputs": [],
   "source": [
    "sample_submission = pd.concat([sample_submission,Item_Outlet_Sales],axis=1)"
   ]
  },
  {
   "cell_type": "code",
   "execution_count": null,
   "id": "85f51327",
   "metadata": {},
   "outputs": [],
   "source": [
    "sample_submission"
   ]
  },
  {
   "cell_type": "code",
   "execution_count": null,
   "id": "b851c95e",
   "metadata": {},
   "outputs": [],
   "source": [
    "sample_submission.to_csv(r'C:\\Users\\Arathi\\Downloads\\sample_submission_neww_8RXa3c6.csv',index=False)"
   ]
  },
  {
   "cell_type": "code",
   "execution_count": null,
   "id": "53905d21",
   "metadata": {},
   "outputs": [],
   "source": [
    "## importing libraries\n",
    "\n",
    "from sklearn.linear_model import Lasso\n",
    "from sklearn.model_selection import train_test_split"
   ]
  },
  {
   "cell_type": "code",
   "execution_count": null,
   "id": "b136c038",
   "metadata": {},
   "outputs": [],
   "source": [
    "# splitting the data into training and testing set\n",
    "\n",
    "x_train, x_test, y_train , y_test = train_test_split(x,y,test_size=0.1,random_state=50)"
   ]
  },
  {
   "cell_type": "code",
   "execution_count": null,
   "id": "3c4d1a8e",
   "metadata": {},
   "outputs": [],
   "source": [
    "### creating an instance of the linear regression\n",
    "\n",
    "\n",
    "Lasso = Lasso(alpha=1.0)\n",
    "# using our xtrain and ytrain lets fit the data\n",
    "\n",
    "Lasso.fit(x_train,y_train)\n",
    "\n",
    "y_pred2= Lasso.predict(x_test)\n",
    "\n",
    "MSE = mean_squared_error(y_test,y_pred2)\n"
   ]
  },
  {
   "cell_type": "code",
   "execution_count": null,
   "id": "91a20cfc",
   "metadata": {},
   "outputs": [],
   "source": [
    "RSV = r2_score(y_test,y_pred2)\n",
    "print('R squared value is',RSV)\n",
    "print('The MSE for this model predictions is',MSE)"
   ]
  },
  {
   "cell_type": "code",
   "execution_count": null,
   "id": "a8cb9e0e",
   "metadata": {},
   "outputs": [],
   "source": [
    "pred3=model.predict(test_df)\n",
    "Item_Outlet_Sales=pred3"
   ]
  },
  {
   "cell_type": "code",
   "execution_count": null,
   "id": "86026185",
   "metadata": {},
   "outputs": [],
   "source": [
    "# load sample submission dataset\n",
    "sample_submission2 = pd.read_csv(r'C:\\Users\\Arathi\\Downloads\\sample_submission_8RXa3c6.csv')"
   ]
  },
  {
   "cell_type": "code",
   "execution_count": null,
   "id": "e426ada6",
   "metadata": {},
   "outputs": [],
   "source": [
    "sample_submission2"
   ]
  },
  {
   "cell_type": "code",
   "execution_count": null,
   "id": "6413c48d",
   "metadata": {},
   "outputs": [],
   "source": [
    "sample_submission2 = sample_submission2.drop('Item_Outlet_Sales', axis=1)"
   ]
  },
  {
   "cell_type": "code",
   "execution_count": null,
   "id": "cf08a43e",
   "metadata": {},
   "outputs": [],
   "source": [
    "Item_Outlet_Sales = pd.DataFrame(Item_Outlet_Sales,columns=['Item_Outlet_Sales'])"
   ]
  },
  {
   "cell_type": "code",
   "execution_count": null,
   "id": "467a5ce9",
   "metadata": {},
   "outputs": [],
   "source": [
    "sample_submission2 = pd.concat([sample_submission2,Item_Outlet_Sales],axis=1)\n"
   ]
  },
  {
   "cell_type": "code",
   "execution_count": null,
   "id": "84c98e17",
   "metadata": {},
   "outputs": [],
   "source": [
    "sample_submission2.to_csv(r'C:\\Users\\Arathi\\Downloads\\sample_submission_newww_8RXa3c6.csv',index=False)"
   ]
  },
  {
   "cell_type": "code",
   "execution_count": null,
   "id": "276576b5",
   "metadata": {},
   "outputs": [],
   "source": []
  },
  {
   "cell_type": "code",
   "execution_count": null,
   "id": "ca440bb7",
   "metadata": {},
   "outputs": [],
   "source": []
  }
 ],
 "metadata": {
  "kernelspec": {
   "display_name": "Python 3 (ipykernel)",
   "language": "python",
   "name": "python3"
  },
  "language_info": {
   "codemirror_mode": {
    "name": "ipython",
    "version": 3
   },
   "file_extension": ".py",
   "mimetype": "text/x-python",
   "name": "python",
   "nbconvert_exporter": "python",
   "pygments_lexer": "ipython3",
   "version": "3.9.12"
  }
 },
 "nbformat": 4,
 "nbformat_minor": 5
}
